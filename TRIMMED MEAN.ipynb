{
 "cells": [
  {
   "cell_type": "markdown",
   "metadata": {},
   "source": [
    "## Obtain the Trimmed Mean"
   ]
  },
  {
   "cell_type": "code",
   "execution_count": 12,
   "metadata": {},
   "outputs": [
    {
     "name": "stdout",
     "output_type": "stream",
     "text": [
      "Introduce a percentage to lose for the Trimmed from 10% or 20% (cause os the recommended):30\n",
      "The percentage is invalid :\n",
      "try again!\n"
     ]
    }
   ],
   "source": [
    "per=int(input(\"Introduce a percentage to lose for the Trimmed from 10% or 20% (cause os the recommended):\"))\n",
    "list1=[]\n",
    "prom1=0\n",
    "val=0\n",
    "max1=0\n",
    "pert=0\n",
    "prom=0\n",
    "if per==10:\n",
    "    print(\"You have chosen 10% :\")\n",
    "    n=int(input(\"Introduce a data size :\"))\n",
    "    for i in range(0,n):\n",
    "        n1=float(input(\"Give me a data: \"))\n",
    "        list1.append(n1)\n",
    "    list1.sort()\n",
    "    print(\"The order data is: \",list1)\n",
    "    val=(per/100)*n\n",
    "    u=list1[int(val):-int(val)]\n",
    "    print(\"The Trimmed is : \", sum(u)/len(u))\n",
    "elif per==20:\n",
    "    print(\"You have chosen 20 :\")\n",
    "    n=int(input(\"Introduce a data size :\"))\n",
    "    for i in range(0,n):\n",
    "        n1=float(input(\"Give me a data: \"))\n",
    "        list1.append(n1)\n",
    "    list1.sort()\n",
    "    print(\"The order data is: \",list1)\n",
    "    val=(per/100)*n\n",
    "    u=list1[int(val):-int(val)]\n",
    "    print(\"The Trimmed is : \", sum(u)/len(u))\n",
    "\n",
    "else: \n",
    "    print(\"The percentage is invalid :\")\n",
    "    print (\"try again!\")\n",
    "\n",
    "\n",
    "\n",
    "\n",
    "   \n",
    "        "
   ]
  },
  {
   "cell_type": "markdown",
   "metadata": {},
   "source": [
    "<strong>BY TOVAR AVILA BENJAMIN AXEL & JESUS ENRIQUE ALVAREZ PEREZ.</strong>"
   ]
  },
  {
   "cell_type": "code",
   "execution_count": null,
   "metadata": {},
   "outputs": [],
   "source": []
  }
 ],
 "metadata": {
  "kernelspec": {
   "display_name": "Python 3",
   "language": "python",
   "name": "python3"
  },
  "language_info": {
   "codemirror_mode": {
    "name": "ipython",
    "version": 3
   },
   "file_extension": ".py",
   "mimetype": "text/x-python",
   "name": "python",
   "nbconvert_exporter": "python",
   "pygments_lexer": "ipython3",
   "version": "3.7.4"
  }
 },
 "nbformat": 4,
 "nbformat_minor": 2
}
